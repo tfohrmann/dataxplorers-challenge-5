{
 "cells": [
  {
   "cell_type": "markdown",
   "id": "e0051775-9b08-467f-8c8a-a3778b4ae8b9",
   "metadata": {},
   "source": [
    "In this notebook we plot the computed values of the bioclim variables"
   ]
  },
  {
   "cell_type": "code",
   "execution_count": null,
   "id": "287c78c1-1e74-4685-9702-1cf72c7849a0",
   "metadata": {},
   "outputs": [],
   "source": [
    "import xarray as xr\n",
    "import matplotlib.pyplot as plt\n",
    "import numpy as np\n",
    "import rioxarray\n",
    "import cartopy.crs as ccrs\n",
    "import cartopy\n",
    "# we need rioxarray (https://corteva.github.io/rioxarray/stable/installation.html) and rasterio installed to open worldclim's tif files\n",
    "# install all packages at the same time in a new env for it to work well\n"
   ]
  },
  {
   "cell_type": "code",
   "execution_count": null,
   "id": "2453cd15-9da8-4e2e-addf-39c96b4049a4",
   "metadata": {},
   "outputs": [],
   "source": [
    "# Load bioclim vars calculated from bioclim_vars.ipynb\n",
    "ds_bio = []\n",
    "for n in range(1,20):\n",
    "    ds_bio.append(xr.open_dataarray(\"./datasets/bio\"+str(n)+\".nc\"))\n",
    "\n",
    "ds_bio_normal = []\n",
    "for n in range(1,20):\n",
    "    ds_bio_normal.append(xr.open_dataarray(\"./datasets/bio\"+str(n)+\"_normal.nc\"))"
   ]
  },
  {
   "cell_type": "code",
   "execution_count": null,
   "id": "2585c0e9-a759-4c05-b0df-fd3be6f5c4c1",
   "metadata": {},
   "outputs": [],
   "source": [
    "# Load Worldclim data \n",
    "ds_bio_normal_wc = []\n",
    "for n in range(1,20):\n",
    "    ds_bio_normal_wc.append(rioxarray.open_rasterio(\"./wc2.1_10m_bio/wc2.1_10m_bio_\"+str(n)+\".tif\")[0])\n"
   ]
  },
  {
   "cell_type": "markdown",
   "id": "6462f215-4c8a-4122-a79f-45a7dda5f291",
   "metadata": {},
   "source": [
    "## Plot normals and compare to worldclim data"
   ]
  },
  {
   "cell_type": "code",
   "execution_count": null,
   "id": "f0c2d9de-ec8c-42e7-bce9-3535e5be0c55",
   "metadata": {},
   "outputs": [],
   "source": [
    "bio_idx = 0 # index for the bioclim var to plot (note that is -1 the actual number, i.e., BIO1 is index 0)"
   ]
  },
  {
   "cell_type": "code",
   "execution_count": null,
   "id": "d6a96f42-7c36-4200-a8d0-fe2ca1eae7bb",
   "metadata": {},
   "outputs": [],
   "source": [
    "# plot our calculations\n",
    "ds_bio_normal[bio_idx].plot(x=\"longitude\", y=\"latitude\")\n",
    "plt.title(ds_bio_normal[bio_idx].attrs[\"name\"] +\": \"+ ds_bio_normal[0].attrs[\"long_name\"])"
   ]
  },
  {
   "cell_type": "code",
   "execution_count": null,
   "id": "b204a4b1-c5ab-4521-af74-015d474cf3d5",
   "metadata": {},
   "outputs": [],
   "source": [
    "# get min values of lat/lon box\n",
    "latmin = ds_bio_normal[0].latitude.min().values\n",
    "latmax = ds_bio_normal[0].latitude.max().values\n",
    "lonmin = ds_bio_normal[0].longitude.min().values\n",
    "lonmax = ds_bio_normal[0].longitude.max().values"
   ]
  },
  {
   "cell_type": "code",
   "execution_count": null,
   "id": "c4857359-0d94-4594-b516-6c8012edbad3",
   "metadata": {},
   "outputs": [],
   "source": [
    "# plot worldclim\n",
    "ds_bio_normal_wc[bio_idx].plot(xlim=(lonmin, lonmax), ylim=(latmin, latmax), vmax=25, vmin=-25, cmap=\"RdBu_r\")"
   ]
  },
  {
   "cell_type": "code",
   "execution_count": null,
   "id": "01ecd171-4879-41db-ade6-5e9b7c3618dd",
   "metadata": {},
   "outputs": [],
   "source": [
    "# Plot side by side\n",
    "bio_idx = 0 # index for the bioclim var to plot (note that is -1 the actual number, i.e., BIO1 is index 0)\n",
    "vmin=-25\n",
    "vmax=25\n",
    "cmap=\"RdBu_r\"\n",
    "proj=ccrs.PlateCarree()\n",
    "\n",
    "fig, axs = plt.subplots(ncols=2, figsize=(18,4), sharey=True, layout='constrained', subplot_kw=dict(projection=proj))\n",
    "\n",
    "f1 = ds_bio_normal_wc[bio_idx].plot(ax=axs[0], xlim=(lonmin, lonmax), ylim=(latmin, latmax), vmin=vmin, vmax=vmax, cmap=cmap, extend=\"both\", add_colorbar=False)\n",
    "axs[0].set_title(\"Worldclim\")\n",
    "\n",
    "f1.axes.coastlines()\n",
    "f1.axes.add_feature(cartopy.feature.BORDERS, linestyle='-', linewidth=1, alpha=0.4)\n",
    "\n",
    "f2 = ds_bio_normal[bio_idx].plot(ax=axs[1], x=\"longitude\", y=\"latitude\", vmin=vmin, vmax=vmax, cmap=cmap, extend=\"both\", add_colorbar=True)\n",
    "axs[1].set_title(\"REA6\")\n",
    "\n",
    "f2.axes.coastlines()\n",
    "f2.axes.add_feature(cartopy.feature.BORDERS, linestyle='-', linewidth=1, alpha=0.4)\n",
    "\n",
    "#plt.colorbar(f2, ax=axs[:])\n",
    "\n",
    "fig.suptitle(ds_bio_normal[bio_idx].attrs[\"name\"] +\": \"+ ds_bio_normal[0].attrs[\"long_name\"])\n"
   ]
  },
  {
   "cell_type": "code",
   "execution_count": null,
   "id": "5727d063-336a-4dca-ae05-298be7f6c1d6",
   "metadata": {},
   "outputs": [],
   "source": []
  },
  {
   "cell_type": "markdown",
   "id": "5f8406c2-b8b6-4430-9cf3-dade0ed15df5",
   "metadata": {},
   "source": [
    "## Plot yearly values"
   ]
  },
  {
   "cell_type": "code",
   "execution_count": null,
   "id": "f694933a-1ba0-432d-9f29-9e0aa19eada7",
   "metadata": {},
   "outputs": [],
   "source": [
    "# Select which year to plot\n",
    "selyear = 1995"
   ]
  },
  {
   "cell_type": "markdown",
   "id": "57435c61-3022-4aa0-bdb9-c22148946a6c",
   "metadata": {},
   "source": [
    "## BIO1"
   ]
  },
  {
   "cell_type": "code",
   "execution_count": null,
   "id": "b94c5028-2dd4-48b2-9701-0090763dc5c4",
   "metadata": {},
   "outputs": [],
   "source": [
    "ds_bio[0].sel(year=selyear).plot(x=\"longitude\", y=\"latitude\")"
   ]
  },
  {
   "cell_type": "markdown",
   "id": "0ca432b9-42de-404a-ba17-158e54031ba6",
   "metadata": {},
   "source": [
    "## BIO2"
   ]
  },
  {
   "cell_type": "code",
   "execution_count": null,
   "id": "20c8d5ee-ccd1-492c-9e59-0883c554770c",
   "metadata": {},
   "outputs": [],
   "source": [
    "ds_bio[1].sel(year=selyear).plot(x=\"longitude\", y=\"latitude\", cmap=\"Reds\")"
   ]
  },
  {
   "cell_type": "markdown",
   "id": "b8a58d75-ce9a-4a63-8775-39f65630fd8d",
   "metadata": {},
   "source": [
    "## BIO3"
   ]
  },
  {
   "cell_type": "code",
   "execution_count": null,
   "id": "037077db-0d7b-4426-9b7d-c2c241999f31",
   "metadata": {},
   "outputs": [],
   "source": [
    "ds_bio[2].sel(year=selyear).plot(x=\"longitude\", y=\"latitude\")"
   ]
  },
  {
   "cell_type": "markdown",
   "id": "40ec7494-6b0d-4e7e-a677-725fa4ad77d5",
   "metadata": {},
   "source": [
    "## BIO4"
   ]
  },
  {
   "cell_type": "code",
   "execution_count": null,
   "id": "1db1ecea-015d-4b4f-a0f2-2eb548220664",
   "metadata": {},
   "outputs": [],
   "source": [
    "ds_bio[3].sel(year=selyear).plot(x=\"longitude\", y=\"latitude\", cmap=\"Reds\")"
   ]
  },
  {
   "cell_type": "markdown",
   "id": "26a54a04-9aff-4cad-adb6-76e19954e221",
   "metadata": {},
   "source": [
    "## BIO5"
   ]
  },
  {
   "cell_type": "code",
   "execution_count": null,
   "id": "92f9ba5b-b2fc-4338-839e-6c87c53803cc",
   "metadata": {},
   "outputs": [],
   "source": [
    "ds_bio[4].sel(year=selyear).plot(x=\"longitude\", y=\"latitude\", cmap=\"Reds\")"
   ]
  },
  {
   "cell_type": "markdown",
   "id": "812c0ad8-1e44-47e6-8a77-6c039cb294f3",
   "metadata": {},
   "source": [
    "## BIO6"
   ]
  },
  {
   "cell_type": "code",
   "execution_count": null,
   "id": "728755ad-294c-47d8-a845-7bb7426d4517",
   "metadata": {},
   "outputs": [],
   "source": [
    "ds_bio[5].sel(year=selyear).plot(x=\"longitude\", y=\"latitude\")"
   ]
  },
  {
   "cell_type": "markdown",
   "id": "dcfa52e2-4071-4957-96c0-f120183f2ac7",
   "metadata": {},
   "source": [
    "## BIO7"
   ]
  },
  {
   "cell_type": "code",
   "execution_count": null,
   "id": "2a558cd8-f286-440a-a43e-6ab51eae2e3a",
   "metadata": {},
   "outputs": [],
   "source": [
    "ds_bio[6].sel(year=selyear).plot(x=\"longitude\", y=\"latitude\", cmap=\"Reds\")"
   ]
  },
  {
   "cell_type": "markdown",
   "id": "d4e874e3-b972-454f-b24c-385bb9bc85c6",
   "metadata": {},
   "source": [
    "## BIO8"
   ]
  },
  {
   "cell_type": "code",
   "execution_count": null,
   "id": "59eaf1f5-9453-4a62-86ba-c868e25e4412",
   "metadata": {},
   "outputs": [],
   "source": [
    "ds_bio[7].sel(year=selyear).plot(x=\"longitude\", y=\"latitude\")"
   ]
  },
  {
   "cell_type": "markdown",
   "id": "a3e038e3-fa8d-4dad-b0f3-8a4ba524fbe3",
   "metadata": {},
   "source": [
    "## BIO9"
   ]
  },
  {
   "cell_type": "code",
   "execution_count": null,
   "id": "d7a208ff-d471-4398-8f3c-9f88a5d07574",
   "metadata": {},
   "outputs": [],
   "source": [
    "ds_bio[8].sel(year=selyear).plot(x=\"longitude\", y=\"latitude\")"
   ]
  },
  {
   "cell_type": "markdown",
   "id": "e5b722ef-d11d-48d3-8811-a0f36496b07b",
   "metadata": {},
   "source": [
    "## BIO10"
   ]
  },
  {
   "cell_type": "code",
   "execution_count": null,
   "id": "91dc5799-44d2-4884-9b90-2513cb8755ab",
   "metadata": {},
   "outputs": [],
   "source": [
    "ds_bio[9].sel(year=selyear).plot(x=\"longitude\", y=\"latitude\")"
   ]
  },
  {
   "cell_type": "markdown",
   "id": "cb808a70-a137-4bb3-80f7-2f534bd05b45",
   "metadata": {},
   "source": [
    "## BIO11"
   ]
  },
  {
   "cell_type": "code",
   "execution_count": null,
   "id": "b6a68b7a-1761-4f57-a1ee-b1e3fa0e4eb7",
   "metadata": {},
   "outputs": [],
   "source": [
    "ds_bio[10].sel(year=selyear).plot(x=\"longitude\", y=\"latitude\")"
   ]
  },
  {
   "cell_type": "markdown",
   "id": "8e940242-81a2-47e0-9618-3068d1d8f4d9",
   "metadata": {},
   "source": [
    "## BIO12"
   ]
  },
  {
   "cell_type": "code",
   "execution_count": null,
   "id": "4f83aa16-2ec3-4f94-a21c-e70bdca6dd96",
   "metadata": {},
   "outputs": [],
   "source": [
    "ds_bio[11].sel(year=selyear).plot(x=\"longitude\", y=\"latitude\")"
   ]
  },
  {
   "cell_type": "markdown",
   "id": "523055b9-1a26-41ad-83d8-830ad378902a",
   "metadata": {},
   "source": [
    "## BIO13"
   ]
  },
  {
   "cell_type": "code",
   "execution_count": null,
   "id": "ca4e40c0-dd72-4ae5-823b-adc6d8db6d9d",
   "metadata": {},
   "outputs": [],
   "source": [
    "ds_bio[12].sel(year=selyear).plot(x=\"longitude\", y=\"latitude\")"
   ]
  },
  {
   "cell_type": "markdown",
   "id": "3cd6e41e-e8fd-4a43-ad6d-969bedf7263c",
   "metadata": {},
   "source": [
    "## BIO14"
   ]
  },
  {
   "cell_type": "code",
   "execution_count": null,
   "id": "39304835-0a23-48ed-8a1a-05921f4b4ece",
   "metadata": {},
   "outputs": [],
   "source": [
    "ds_bio[13].sel(year=selyear).plot(x=\"longitude\", y=\"latitude\")"
   ]
  },
  {
   "cell_type": "markdown",
   "id": "aead35d9-ab27-4e84-9690-ad6109bbd640",
   "metadata": {},
   "source": [
    "## BIO15"
   ]
  },
  {
   "cell_type": "code",
   "execution_count": null,
   "id": "2f970d10-907f-41cb-9a09-6fe4a5c96c8b",
   "metadata": {},
   "outputs": [],
   "source": [
    "ds_bio[14].sel(year=selyear).plot(x=\"longitude\", y=\"latitude\")"
   ]
  },
  {
   "cell_type": "markdown",
   "id": "40c5e2c9-fad3-4c69-85f8-f7852b80b702",
   "metadata": {},
   "source": [
    "## BIO16"
   ]
  },
  {
   "cell_type": "code",
   "execution_count": null,
   "id": "fca0e51a-f67e-45c1-b34f-76f694ca21ab",
   "metadata": {},
   "outputs": [],
   "source": [
    "ds_bio[15].sel(year=selyear).plot(x=\"longitude\", y=\"latitude\")"
   ]
  },
  {
   "cell_type": "markdown",
   "id": "f1b6ebed-cb10-4257-abae-fdb1c7325268",
   "metadata": {},
   "source": [
    "## BIO17"
   ]
  },
  {
   "cell_type": "code",
   "execution_count": null,
   "id": "01e97fc9-b0d0-4996-9cd2-2463310d1831",
   "metadata": {},
   "outputs": [],
   "source": [
    "ds_bio[16].sel(year=selyear).plot(x=\"longitude\", y=\"latitude\")"
   ]
  },
  {
   "cell_type": "markdown",
   "id": "cca26241-1e10-478d-92e4-5c7ef788840e",
   "metadata": {},
   "source": [
    "## BIO18"
   ]
  },
  {
   "cell_type": "code",
   "execution_count": null,
   "id": "5aef4eeb-7559-4f4a-8469-56ac7aca0f1f",
   "metadata": {},
   "outputs": [],
   "source": [
    "ds_bio[17].sel(year=selyear).plot(x=\"longitude\", y=\"latitude\")"
   ]
  },
  {
   "cell_type": "markdown",
   "id": "f292e800-e8a3-4564-84d3-d20abf300319",
   "metadata": {},
   "source": [
    "## BIO19"
   ]
  },
  {
   "cell_type": "code",
   "execution_count": null,
   "id": "c46568f5-7cbb-45f7-a2cb-2ed90893b3df",
   "metadata": {},
   "outputs": [],
   "source": [
    "ds_bio[18].sel(year=selyear).plot(x=\"longitude\", y=\"latitude\")"
   ]
  },
  {
   "cell_type": "code",
   "execution_count": null,
   "id": "e9fb54a3-3590-4c91-aac2-0c4d999991bc",
   "metadata": {},
   "outputs": [],
   "source": []
  }
 ],
 "metadata": {
  "kernelspec": {
   "display_name": "Python 3 (ipykernel)",
   "language": "python",
   "name": "python3"
  },
  "language_info": {
   "codemirror_mode": {
    "name": "ipython",
    "version": 3
   },
   "file_extension": ".py",
   "mimetype": "text/x-python",
   "name": "python",
   "nbconvert_exporter": "python",
   "pygments_lexer": "ipython3",
   "version": "3.12.0"
  }
 },
 "nbformat": 4,
 "nbformat_minor": 5
}
