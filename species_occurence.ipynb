{
 "cells": [
  {
   "cell_type": "code",
   "execution_count": null,
   "id": "5845c2df",
   "metadata": {},
   "outputs": [],
   "source": [
    "import matplotlib.pyplot as plt\n",
    "\n",
    "import pandas as pd\n",
    "import geopandas as gpd\n",
    "from geodatasets import get_path\n",
    "from shapely import geometry\n",
    "\n",
    "from dwca.read import DwCAReader\n",
    "\n",
    "import xarray as xr\n",
    "\n",
    "from os.path import isfile"
   ]
  },
  {
   "cell_type": "markdown",
   "id": "2a1a470f-195b-44e7-bcc7-d925bf05cd0a",
   "metadata": {},
   "source": [
    "# Wolf data set"
   ]
  },
  {
   "cell_type": "code",
   "execution_count": null,
   "id": "cf1c97aa-61d6-4d48-b091-5ebe21319b02",
   "metadata": {},
   "outputs": [],
   "source": [
    "useful_columns = [\"id\", \"eventDate\", \"decimalLatitude\", \"decimalLongitude\", \"coordinateUncertaintyInMeters\", \n",
    "                  \"scientificName\", \"level0Gid\", \"level0Name\", \"level1Gid\", \"level1Name\", \"level2Gid\", \"level2Name\", \n",
    "                  \"level3Gid\", \"level3Name\", \"geodeticDatum\"]"
   ]
  },
  {
   "cell_type": "code",
   "execution_count": null,
   "id": "b16b9803-e5c2-42c2-936d-4236556673c0",
   "metadata": {},
   "outputs": [],
   "source": [
    "with DwCAReader(\"./datasets/0054964-231002084531237.zip\") as dwca:\n",
    "    df = dwca.pd_read('occurrence.txt', parse_dates=True)[useful_columns] #load selected columns\n",
    "\n",
    "    # Convert to GeoDataFrame:\n",
    "    assert (df[\"geodeticDatum\"][0] == df[\"geodeticDatum\"]).all(), \"Ovservations do not share coordinate reference system!\"\n",
    "    crs = df[\"geodeticDatum\"][0]\n",
    "    \n",
    "    gdf = gpd.GeoDataFrame(df, crs=crs, geometry=gpd.points_from_xy(df[\"decimalLongitude\"], df[\"decimalLatitude\"]))\n",
    "    gdf.drop(gdf.loc[gdf[\"decimalLongitude\"] < 0.].index, inplace=True) #get rid of outlier"
   ]
  },
  {
   "cell_type": "code",
   "execution_count": null,
   "id": "6f165423-64d6-4081-8dfe-84abe6a02d28",
   "metadata": {},
   "outputs": [],
   "source": [
    "world = gpd.read_file(get_path(\"naturalearth.land\"))\n",
    "\n",
    "# We restrict to South America.\n",
    "ax = world.clip([-11, 45, 24, 60]).plot(color=\"white\", edgecolor=\"black\")\n",
    "\n",
    "# We can now plot our ``GeoDataFrame``.\n",
    "gdf.plot(ax=ax, color=\"red\")\n",
    "\n",
    "plt.show()"
   ]
  },
  {
   "cell_type": "markdown",
   "id": "3314a796-355c-4176-85c5-d4a1b3511466",
   "metadata": {},
   "source": [
    "# REA6 mesh for Germany"
   ]
  },
  {
   "cell_type": "code",
   "execution_count": null,
   "id": "b692f4db-1d7a-487e-896f-0c18dfe7774a",
   "metadata": {},
   "outputs": [],
   "source": [
    "# Load latitudes and longitudes:\n",
    "with xr.open_dataset(\"./datasets/bio1.nc\") as ds:\n",
    "    lats, lons = ds[\"latitude\"], ds[\"longitude\"]\n",
    "\n",
    "if isfile(\"./datasets/grid_de.shp\"):\n",
    "   grid_de = gpd.read_file(\"./datasets/grid_de.shp\")\n",
    "else: \n",
    "    # Computing the full mesh takes a bit of time, give a nice representation of the progress:\n",
    "    import sys, time\n",
    "    \n",
    "    def progressbar(it, prefix=\"\", size=60, out=sys.stdout): # Python3.6+\n",
    "        count = len(it)\n",
    "        start = time.time()\n",
    "        def show(j):\n",
    "            x = int(size*j/count)\n",
    "            remaining = ((time.time() - start) / j) * (count - j)\n",
    "            \n",
    "            mins, sec = divmod(remaining, 60)\n",
    "            time_str = f\"{int(mins):02}:{sec:05.2f}\"\n",
    "            \n",
    "            print(f\"{prefix}[{u'█'*x}{('.'*(size-x))}] {j}/{count} Est wait {time_str}\", end='\\r', file=out, flush=True)\n",
    "            \n",
    "        for i, item in enumerate(it):\n",
    "            yield item\n",
    "            show(i+1)\n",
    "        print(\"\\n\", flush=True, file=out)\n",
    "\n",
    "    # Create polygons from lat/lon:\n",
    "    polygon_grid = []\n",
    "    n_x, n_y = lats.shape\n",
    "    for i in progressbar(range(n_x - 1), \"Computing: \", 40):\n",
    "        for j in range(n_y - 1):\n",
    "            polygon_grid.append(geometry.Polygon([(lons[i,j], lats[i,j]), (lons[i+1,j], lats[i+1,j]), \n",
    "                                                  (lons[i+1,j+1], lats[i+1,j+1]), (lons[i,j+1], lats[i,j+1])]))\n",
    "\n",
    "    # Convert to gdf:\n",
    "    grid = gpd.GeoDataFrame(polygon_grid, columns=['geometry']).set_crs(crs)\n",
    "    grid.to_file(\"./datasets/grid_full.shp\")\n",
    "\n",
    "    # Cut out Germany:\n",
    "    de = world[world[\"name\"] == \"Germany\"]\n",
    "    grid_de = gpd.tools.sjoin(mesh, de)\n",
    "    grid_de.to_file(\"./datasets/grid_de.shp\")"
   ]
  },
  {
   "cell_type": "markdown",
   "id": "7c2c7f37-58bb-4eed-bc9f-dc1c4e9cb535",
   "metadata": {},
   "source": [
    "# Compute occurences per grid point"
   ]
  },
  {
   "cell_type": "markdown",
   "id": "67817cd4-0f33-464e-890d-9c4671489037",
   "metadata": {},
   "source": [
    "Currently this only gives the total number of sightings. For a year by year approach one would probably filter the wolf data year by year and do the below steps individually."
   ]
  },
  {
   "cell_type": "code",
   "execution_count": null,
   "id": "329bc448-5d60-4cd2-963c-1bd9e4b4aa7e",
   "metadata": {},
   "outputs": [],
   "source": [
    "# Spatially join grid and observations:\n",
    "merged = gpd.sjoin(gdf, grid_de)[[\"id\", \"eventDate\", \"index_right\", \"geometry\"]]\n",
    "merged[\"nOccurences\"] = 1\n",
    "\n",
    "# Count occurences:\n",
    "dissolved = merged.dissolve(by=\"index_right\", aggfunc=\"count\") #counts how many points fall into each polygon\n",
    "grid_de.loc[dissolved.index, \"nOccurences\"] = dissolved[\"nOccurences\"].values #store data back into whole grid\n",
    "occ_gridded = grid_de[[\"nOccurences\", \"geometry\"]] #shrunk version"
   ]
  },
  {
   "cell_type": "code",
   "execution_count": null,
   "id": "6b470cab-d3a7-4752-8010-2a542a2e0860",
   "metadata": {},
   "outputs": [],
   "source": [
    "ax = occ_gridded.plot(column=\"nOccurences\", figsize=(12, 8), cmap='viridis', edgecolor=\"grey\", legend=True)\n",
    "plt.autoscale(False)\n",
    "world.to_crs(grid_de.crs).plot(ax=ax, color='none', edgecolor='black')\n",
    "\n",
    "plt.show()"
   ]
  },
  {
   "cell_type": "markdown",
   "id": "5e29e112-1521-413e-ae7c-e77488fad7f9",
   "metadata": {},
   "source": [
    "# Compare to bioclimatic variables"
   ]
  },
  {
   "cell_type": "code",
   "execution_count": null,
   "id": "afab3633-bb1c-40de-90dc-5005666de115",
   "metadata": {},
   "outputs": [],
   "source": [
    "for i in range(1,20):\n",
    "    _ = xr.open_dataset(f\"./datasets/bio{i}.nc\")\n",
    "    _ = _[list(_.keys())[0]].isel(year=10)\n",
    "\n",
    "    fig, axs = plt.subplots()\n",
    "    \n",
    "    axs.contourf(lons, lats, _) #bioclimatic variable\n",
    "    occ_gridded.plot(column=\"nOccurences\", cmap='viridis', edgecolor=\"grey\", ax=axs) #occurences\n",
    "    \n",
    "    world.to_crs(crs).plot(ax=axs, color='none', edgecolor='black') #sea border\n",
    "    \n",
    "    axs.set(title=f\"BIO{i}\")\n",
    "    axs.set_xlim(4, 18)\n",
    "    axs.set_ylim(47, 55)\n",
    "    plt.show()"
   ]
  },
  {
   "cell_type": "code",
   "execution_count": null,
   "id": "ed4b33b7-5367-4add-bffc-c3f1db0db2b2",
   "metadata": {},
   "outputs": [],
   "source": []
  }
 ],
 "metadata": {
  "kernelspec": {
   "display_name": "Python 3 (ipykernel)",
   "language": "python",
   "name": "python3"
  },
  "language_info": {
   "codemirror_mode": {
    "name": "ipython",
    "version": 3
   },
   "file_extension": ".py",
   "mimetype": "text/x-python",
   "name": "python",
   "nbconvert_exporter": "python",
   "pygments_lexer": "ipython3",
   "version": "3.12.0"
  }
 },
 "nbformat": 4,
 "nbformat_minor": 5
}
